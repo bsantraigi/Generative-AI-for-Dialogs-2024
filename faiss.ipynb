{
 "cells": [
  {
   "cell_type": "code",
   "execution_count": 1,
   "id": "4fe5df6c-f61e-4ab5-a47d-a2d7d1ddbebb",
   "metadata": {},
   "outputs": [
    {
     "name": "stdout",
     "output_type": "stream",
     "text": [
      "env: TRANSFORMERS_OFFLINE=1\n",
      "env: HF_DATASETS_OFFLINE=1\n"
     ]
    }
   ],
   "source": [
    "%env TRANSFORMERS_OFFLINE=1\n",
    "%env HF_DATASETS_OFFLINE=1"
   ]
  },
  {
   "cell_type": "code",
   "execution_count": null,
   "id": "9cbb642f-d375-4be5-a925-d2a68ccf23b6",
   "metadata": {},
   "outputs": [],
   "source": [
    "from datautils.dialog_data import DialogData\n",
    "from transformers import AutoTokenizer\n",
    "from retrieval_model.model import LitBERT\n",
    "from torch.utils.data import DataLoader\n",
    "from tqdm import tqdm\n",
    "import torch\n",
    "import numpy as np\n",
    "import faiss"
   ]
  },
  {
   "cell_type": "code",
   "execution_count": null,
   "id": "46ef8926-edd6-433c-81a9-f12d271a9348",
   "metadata": {},
   "outputs": [],
   "source": [
    "tokenizer = AutoTokenizer.from_pretrained(\"bert-base-uncased\", use_fast=True, verbose=False)"
   ]
  },
  {
   "cell_type": "code",
   "execution_count": null,
   "id": "72fb9878-8d0f-4073-97fc-31ea0591e365",
   "metadata": {},
   "outputs": [],
   "source": [
    "train = DialogData(\"data/ijcnlp_dailydialog/train/dialogues_train.txt\", tokenizer, neg_per_positive=0)"
   ]
  },
  {
   "cell_type": "code",
   "execution_count": null,
   "id": "09154d77-4e54-43b5-bd31-68ca40616998",
   "metadata": {},
   "outputs": [],
   "source": [
    "train_loader = DataLoader(train, batch_size=16, collate_fn=train.collate_fn, shuffle=False)"
   ]
  },
  {
   "cell_type": "code",
   "execution_count": null,
   "id": "6399e08c-c082-4964-bddd-61c1a1ce844f",
   "metadata": {},
   "outputs": [],
   "source": [
    "contexts, responses = zip(*train.data)"
   ]
  },
  {
   "cell_type": "code",
   "execution_count": null,
   "id": "424875b1-461b-4ee6-b5af-c47a2b2773bc",
   "metadata": {},
   "outputs": [],
   "source": [
    "device = torch.device(\"cuda\") if torch.cuda.is_available() else torch.device(\"cuda\")\n",
    "print(device)"
   ]
  },
  {
   "cell_type": "code",
   "execution_count": null,
   "id": "1aba4023-fa78-4866-ab8b-86e8b36e307c",
   "metadata": {},
   "outputs": [],
   "source": [
    "r3_model = LitBERT.load_from_checkpoint(\"runs/DD_only/BERT/epoch=3-step=50703.ckpt\")\n",
    "r3_model.freeze()"
   ]
  },
  {
   "cell_type": "code",
   "execution_count": null,
   "id": "5e7528e7-6437-47c9-bd9a-f0c6d2807fc4",
   "metadata": {},
   "outputs": [],
   "source": [
    "r3_model = r3_model.to(device)"
   ]
  },
  {
   "cell_type": "code",
   "execution_count": null,
   "id": "a8328f86-b518-43e8-8818-a868a199becc",
   "metadata": {},
   "outputs": [],
   "source": [
    "emb_contexts = []\n",
    "for batch_idx, batch in enumerate(tqdm(train_loader)):\n",
    "    c_enc = r3_model.forward_context_only(batch['premise'].to(device), batch['premise_length'].to(device)).detach().cpu().numpy()\n",
    "    emb_contexts.extend(c_enc)"
   ]
  },
  {
   "cell_type": "code",
   "execution_count": null,
   "id": "c421d3af-740a-457f-b654-3198ddb6a950",
   "metadata": {},
   "outputs": [],
   "source": [
    "emb_contexts = np.stack(emb_contexts, 0)"
   ]
  },
  {
   "cell_type": "code",
   "execution_count": null,
   "id": "126ddb4b-405f-4257-b4fb-8ac11a927f51",
   "metadata": {},
   "outputs": [],
   "source": [
    "emb_contexts.shape"
   ]
  },
  {
   "cell_type": "code",
   "execution_count": null,
   "id": "61939975-cdde-469f-8279-245173e1ba7d",
   "metadata": {},
   "outputs": [],
   "source": [
    "d=1536\n",
    "nlist=50\n",
    "m = 8  # number of centroid IDs in final compressed vectors\n",
    "bits = 8 # number of bits in each centroid\n",
    "\n",
    "quantizer = faiss.IndexFlatPI(d)  # we keep the same L2 distance flat index\n",
    "index = faiss.IndexIVFPQ(quantizer, d, nlist, m, bits)"
   ]
  },
  {
   "cell_type": "code",
   "execution_count": null,
   "id": "aed52bb6-3b64-4215-842c-3f086e6c4c55",
   "metadata": {},
   "outputs": [],
   "source": [
    "%%time\n",
    "index.train(emb_contexts)"
   ]
  },
  {
   "cell_type": "code",
   "execution_count": null,
   "id": "f834787c-7ab4-47b8-b939-a07bd6e1bf3e",
   "metadata": {},
   "outputs": [],
   "source": [
    "%%time\n",
    "index.add(emb_contexts)"
   ]
  },
  {
   "cell_type": "code",
   "execution_count": null,
   "id": "573208cb-1e83-4c64-875d-51df6624af30",
   "metadata": {},
   "outputs": [],
   "source": [
    "c_enc = r3_model.forward_context_only(batch['premise'].to(device), batch['premise_length'].to(device)).detach().cpu().numpy()"
   ]
  },
  {
   "cell_type": "code",
   "execution_count": null,
   "id": "d8cd3344-c4fd-4011-8157-088b43968659",
   "metadata": {},
   "outputs": [],
   "source": [
    "index.add(c_enc)"
   ]
  },
  {
   "cell_type": "code",
   "execution_count": null,
   "id": "15e33f95-a27e-40eb-bd40-abd200b6146e",
   "metadata": {},
   "outputs": [],
   "source": [
    "%%timeit\n",
    "D, I = index.search(c_enc, 50)"
   ]
  },
  {
   "cell_type": "code",
   "execution_count": null,
   "id": "42558cb4-ff99-492f-8b2d-6f4c78bbd1d8",
   "metadata": {},
   "outputs": [],
   "source": [
    "D"
   ]
  },
  {
   "cell_type": "code",
   "execution_count": null,
   "id": "2a14ab09-1a37-4fe0-aefc-cfef4666f797",
   "metadata": {},
   "outputs": [],
   "source": [
    "for ix in I[0].tolist():\n",
    "    print(f\"Context: {contexts[ix]}\")\n",
    "    print(\"-------------------\")\n",
    "    print(f\"Response: {responses[ix]}\")\n",
    "    print(\"==============================\")"
   ]
  },
  {
   "cell_type": "code",
   "execution_count": null,
   "id": "dc5a0c40-6ed5-4577-a57c-237b36c8f374",
   "metadata": {},
   "outputs": [],
   "source": []
  }
 ],
 "metadata": {
  "kernelspec": {
   "display_name": "Python 3",
   "language": "python",
   "name": "python3"
  },
  "language_info": {
   "codemirror_mode": {
    "name": "ipython",
    "version": 3
   },
   "file_extension": ".py",
   "mimetype": "text/x-python",
   "name": "python",
   "nbconvert_exporter": "python",
   "pygments_lexer": "ipython3",
   "version": "3.8.12"
  }
 },
 "nbformat": 4,
 "nbformat_minor": 5
}
