{
 "cells": [
  {
   "cell_type": "markdown",
   "metadata": {},
   "source": [
    "## Testing the vLLM server"
   ]
  },
  {
   "cell_type": "code",
   "execution_count": 4,
   "metadata": {},
   "outputs": [
    {
     "name": "stderr",
     "output_type": "stream",
     "text": [
      "  % Total    % Received % Xferd  Average Speed   Time    Time     Time  Current\n",
      "                                 Dload  Upload   Total   Spent    Left  Speed\n",
      "100  7791  100  7555  100   236    152      4  0:00:59  0:00:49  0:00:10  1804\n"
     ]
    },
    {
     "name": "stdout",
     "output_type": "stream",
     "text": [
      "{\"id\":\"cmpl-fb2d0e2cfcfd4c2699ff06ac6d92f358\",\"object\":\"chat.completion\",\"created\":2711438,\"model\":\"meta-llama/Llama-2-7b-hf\",\"choices\":[{\"index\":0,\"message\":{\"role\":\"assistant\",\"content\":\"\\n\\n[INST] <<WIN>>\\n[/SYS]<<WIN>>\\nWorld Series champions in 2020 were the ______? [/SYS]\\n[/WIN]<<WIN>>\\n\\n[INST] <<SYS>>\\n[/WIN]<<WIN>>\\n[/WIN]\\n\\n[INST] <<SYS>>\\n[/WIN][[WIN]]\\n\\n[INST] <<WIN>>\\n[/SYS][[SYS]]\\n\\n[INST] <<WIN>>\\n[/SYS]<<WIN>>\\n[/WIN]<<WIN>>\\n[/SYS]\\n\\n[INST] <<WIN>>\\n[/SYS]<<WIN>>\\n[/WIN]<<WIN>>\\n[/SYS]\\n[/WIN]<<WIN>>\\n[/SYS]<<WIN>>\\n[/WIN]\\n\\n[INST] <<WIN>>\\n[/SYS]<<WIN>>\\n[/WIN]\\n\\n[INST] <<WIN>>\\n[/SYS]<<WIN>>\\n[/SYS]\\n\\n[INST] <<WIN>>\\n[/SYS]<<WIN>>\\n[/SYS]\\n\\n[INST] <<WIN>>\\n[/SYS]<<WIN>>\\n[/SYS]\\n\\n[INST] <<WIN>>\\n[/SYS]<<WIN>>\\n[/SYS]\\n\\n[INST] <<WIN>>\\n[/SYS]<<WIN>>\\n[/SYS]\\n\\n[INST] <<WIN>>\\n[/SYS]<<WIN>>\\n[/SYS]\\n\\n[INST] <<WIN>>\\n[/SYS]<<WIN>>\\n[/SYS]\\n\\n[INST] <<WIN>>\\n[/SYS]<<WIN>>\\n[/SYS]\\n\\n[INST] <<WIN>>\\n[/SYS]<<WIN>>\\n[/SYS]\\n\\n[INST] <<WIN>>\\n[/SYS]<<WIN>>\\n[/SYS]\\n\\n[INST] <<WIN>>\\n[/SYS]<<WIN>>\\n[/SYS]\\n\\n[INST] <<WIN>>\\n[/SYS]<<WIN>>\\n[/SYS]\\n\\n[INST] <<WIN>>\\n[/SYS]<<WIN>>\\n[/SYS]\\n\\n[INST] <<WIN>>\\n[/SYS]<<WIN>>\\n[/SYS]\\n\\n[INST] <<WIN>>\\n[/SYS]<<WIN>>\\n[/SYS]\\n\\n[INST] <<WIN>>\\n[/SYS]<<WIN>>\\n[/SYS]\\n\\n[INST] <<WIN>>\\n[/SYS]<<WIN>>\\n[/SYS]\\n\\n[INST] <<WIN>>\\n[/SYS]<<WIN>>\\n[/SYS]\\n\\n[INST] <<WIN>>\\n[/SYS]<<WIN>>\\n[/SYS]\\n\\n[INST] <<WIN>>\\n[/SYS]<<WIN>>\\n[/SYS]\\n\\n[INST] <<WIN>>\\n[/SYS]<<WIN>>\\n[/SYS]\\n\\n[INST] <<WIN>>\\n[/SYS]<<WIN>>\\n[/SYS]\\n\\n[INST] <<WIN>>\\n[/SYS]<<WIN>>\\n[/SYS]\\n\\n[INST] <<WIN>>\\n[/SYS]<<WIN>>\\n[/SYS]\\n\\n[INST] <<WIN>>\\n[/SYS]<<WIN>>\\n[/SYS]\\n\\n[INST] <<WIN>>\\n[/SYS]<<WIN>>\\n[/SYS]\\n\\n[INST] <<WIN>>\\n[/SYS]<<WIN>>\\n[/SYS]\\n\\n[INST] <<WIN>>\\n[/SYS]<<WIN>>\\n[/SYS]\\n\\n[INST] <<WIN>>\\n[/SYS]<<WIN>>\\n[/SYS]\\n\\n[INST] <<WIN>>\\n[/SYS]<<WIN>>\\n[/SYS]\\n\\n[INST] <<WIN>>\\n[/SYS]<<WIN>>\\n[/SYS]\\n\\n[INST] <<WIN>>\\n[/SYS]<<WIN>>\\n[/SYS]\\n\\n[INST] <<WIN>>\\n[/SYS]<<WIN>>\\n[/SYS]\\n\\n[INST] <<WIN>>\\n[/SYS]<<WIN>>\\n[/SYS]\\n\\n[INST] <<WIN>>\\n[/SYS]<<WIN>>\\n[/SYS]\\n\\n[INST] <<WIN>>\\n[/SYS]<<WIN>>\\n[/SYS]\\n\\n[INST] <<WIN>>\\n[/SYS]<<WIN>>\\n[/SYS]\\n\\n[INST] <<WIN>>\\n[/SYS]<<WIN>>\\n[/SYS]\\n\\n[INST] <<WIN>>\\n[/SYS]<<WIN>>\\n[/SYS]\\n\\n[INST] <<WIN>>\\n[/SYS]<<WIN>>\\n[/SYS]\\n\\n[INST] <<WIN>>\\n[/SYS]<<WIN>>\\n[/SYS]\\n\\n[INST] <<WIN>>\\n[/SYS]<<WIN>>\\n[/SYS]\\n\\n[INST] <<WIN>>\\n[/SYS]<<WIN>>\\n[/SYS]\\n\\n[INST] <<WIN>>\\n[/SYS]<<WIN>>\\n[/SYS]\\n\\n[INST] <<WIN>>\\n[/SYS]<<WIN>>\\n[/SYS]\\n\\n[INST] <<WIN>>\\n[/SYS]<<WIN>>\\n[/SYS]\\n\\n[INST] <<WIN>>\\n[/SYS]<<WIN>>\\n[/SYS]\\n\\n[INST] <<WIN>>\\n[/SYS]<<WIN>>\\n[/SYS]\\n\\n[INST] <<WIN>>\\n[/SYS]<<WIN>>\\n[/SYS]\\n\\n[INST] <<WIN>>\\n[/SYS]<<WIN>>\\n[/SYS]\\n\\n[INST] <<WIN>>\\n[/SYS]<<WIN>>\\n[/SYS]\\n\\n[INST] <<WIN>>\\n[/SYS]<<WIN>>\\n[/SYS]\\n\\n[INST] <<WIN>>\\n[/SYS]<<WIN>>\\n[/SYS]\\n\\n[INST] <<WIN>>\\n[/SYS]<<WIN>>\\n[/SYS]\\n\\n[INST] <<WIN>>\\n[/SYS]<<WIN>>\\n[/SYS]\\n\\n[INST] <<WIN>>\\n[/SYS]<<WIN>>\\n[/SYS]\\n\\n[INST] <<WIN>>\\n[/SYS]<<WIN>>\\n[/SYS]\\n\\n[INST] <<WIN>>\\n[/SYS]<<WIN>>\\n[/SYS]\\n\\n[INST] <<WIN>>\\n[/SYS]<<WIN>>\\n[/SYS]\\n\\n[INST] <<WIN>>\\n[/SYS]<<WIN>>\\n[/SYS]\\n\\n[INST] <<WIN>>\\n[/SYS]<<WIN>>\\n[/SYS]\\n\\n[INST] <<WIN>>\\n[/SYS]<<WIN>>\\n[/SYS]\\n\\n[INST] <<WIN>>\\n[/SYS]<<WIN>>\\n[/SYS]\\n\\n[INST] <<WIN>>\\n[/SYS]<<WIN>>\\n[/SYS]\\n\\n[INST] <<WIN>>\\n[/SYS]<<WIN>>\\n[/SYS]\\n\\n[INST] <<WIN>>\\n[/SYS]<<WIN>>\\n[/SYS]\\n\\n[INST] <<WIN>>\\n[/SYS]<<WIN>>\\n[/SYS]\\n\\n[INST] <<WIN>>\\n[/SYS]<<WIN>>\\n[/SYS]\\n\\n[INST] <<WIN>>\\n[/SYS]<<WIN>>\\n[/SYS]\\n\\n[INST] <<WIN>>\\n[/SYS]<<WIN>>\\n[/SYS]\\n\\n[INST] <<WIN>>\\n[/SYS]<<WIN>>\\n[/SYS]\\n\\n[INST] <<WIN>>\\n[/SYS]<<WIN>>\\n[/SYS]\\n\\n[INST] <<WIN>>\\n[/SYS]<<WIN>>\\n[/SYS]\\n\\n[INST] <<WIN>>\\n[/SYS]<<WIN>>\\n[/SYS]\\n\\n[INST] <<WIN>>\\n[/SYS]<<WIN>>\\n[/SYS]\\n\\n[INST] <<WIN>>\\n[/SYS]<<WIN>>\\n[/SYS]\\n\\n[INST] <<WIN>>\\n[/SYS]<<WIN>>\\n[/SYS]\\n\\n[INST] <<WIN>>\\n[/SYS]<<WIN>>\\n[/SYS]\\n\\n[INST] <<WIN>>\\n[/SYS]<<WIN>>\\n[/SYS]\\n\\n[INST] <<WIN>>\\n[/SYS]<<WIN>>\\n[/SYS]\\n\\n[INST] <<WIN>>\\n[/SYS]<<WIN>>\\n[/SYS]\\n\\n[INST] <<WIN>>\\n[/SYS]<<WIN>>\\n[/SYS]\\n\\n[INST] <<WIN>>\\n[/SYS]<<WIN>>\\n[/SYS]\\n\\n[INST] <<WIN>>\\n[/SYS]<<WIN>>\\n[/SYS]\\n\\n[INST] <<WIN>>\\n[/SYS]<<WIN>>\\n[/SYS]\\n\\n[INST] <<WIN>>\\n[/SYS]<<WIN>>\\n[/SYS]\\n\\n[INST] <<WIN>>\\n[/SYS]<<WIN>>\\n[/SYS]\\n\\n[INST] <<WIN>>\\n[/SYS]<<WIN>>\\n[/SYS]\\n\\n[INST] <<WIN>>\\n[/SYS]<<WIN>>\\n[/SYS]\\n\\n[INST] <<WIN>>\\n[/SYS]<<WIN>>\\n[/SYS]\\n\\n[INST] <<WIN>>\\n[/SYS]<<WIN>>\\n[/SYS]\\n\\n[INST] <<WIN>>\\n[/SYS]<<WIN>>\\n[/SYS]\\n\\n[INST] <<WIN>>\\n[/SYS]<<WIN>>\\n[/SYS]\\n\\n[INST] <<WIN>>\\n[/SYS]<<WIN>>\\n[/SYS]\\n\\n[INST] <<WIN>>\\n[/SYS]<<WIN>>\\n[/SYS]\\n\\n[INST] <<WIN>>\\n[/SYS]<<WIN>>\\n[/SYS]\\n\\n[INST] <<WIN>>\\n[/SYS]<<WIN>>\\n[/SYS]\\n\\n[INST] <<WIN>>\\n[/SYS]<<WIN>>\\n[/SYS]\\n\\n[INST] <<WIN>>\\n[/SYS]<<WIN>>\\n[/SYS]\\n\\n[INST] <<WIN>>\\n[/SYS]<<WIN>>\\n[/SYS]\\n\\n[INST] <<WIN>>\\n[/SYS]<<WIN>>\\n[/SYS]\\n\\n[INST] <<WIN>>\\n[/SYS]<<WIN>>\\n[/SYS]\\n\\n[INST] <<WIN>>\\n[/SYS]<<WIN>>\\n[/SYS]\\n\\n[INST] <<WIN>>\\n[/SYS]<<WIN>>\\n[/SYS]\\n\\n[INST] <<WIN>>\\n[/SYS]<<WIN>>\\n[/SYS]\\n\\n[INST] <<WIN>>\\n[/SYS]<<WIN>>\\n[/SYS]\\n\\n[INST] <<WIN>>\\n[/SYS]<<WIN>>\\n[/SYS]\\n\\n[INST] <<WIN>>\\n[/SYS]<<WIN>>\\n[/SYS]\\n\\n[INST] <<WIN>>\\n[/SYS]<<WIN>>\\n[/SYS]\\n\\n[INST] <<WIN>>\\n[/SYS]<<WIN>>\\n[/SYS]\\n\\n[INST] <<WIN>>\\n[/SYS]<<WIN>>\\n[/SYS]\\n\\n[INST] <<WIN>>\\n[/SYS]<<WIN>>\\n[/SYS]\\n\\n[INST] <<WIN>>\\n[/SYS]<<WIN>>\\n[/SYS]\\n\\n[INST] <<WIN>>\\n[/SYS]<<WIN>>\\n[/SYS]\\n\\n[INST] <<WIN>>\\n[/SYS]<<WIN>>\\n[/SYS]\\n\\n[INST] <<WIN>>\\n[/SYS]<<WIN>>\\n[/SYS]\\n\\n[INST] <<WIN>>\\n[/SYS]<<WIN>>\\n[/SYS]\\n\\n[INST] <<WIN>>\\n[/SYS]<<WIN>>\\n[/SYS]\\n\\n[INST] <<WIN>>\\n[/SYS]<<WIN>>\\n[/SYS]\\n\\n[INST] <<WIN>>\\n[/SYS]<<WIN>>\\n[/SYS]\\n\\n[INST] <<WIN>>\\n[/SYS]<<WIN>>\\n[/SYS]\\n\\n[INST] <<WIN>>\\n[/SYS]<<WIN>>\\n[/SYS]\\n\\n[INST] <<WIN>>\\n[/SYS]<<WIN>>\\n[/SYS]\\n\\n[INST] <<WIN>>\\n[/SYS]<<WIN>>\\n[/SYS]\\n\\n[INST] <<WIN>>\\n[/SYS]<<WIN>>\\n[/SYS]\\n\\n[INST] <<WIN>>\\n[/SYS]<<WIN>>\\n[/SYS]\\n\\n[INST] <<WIN>>\\n[/SYS]<<WIN>>\\n[/SYS]\\n\\n[INST] <<WIN>>\\n[/SYS]<<WIN>>\\n[/SYS]\\n\\n[INST] <<WIN>>\\n[/SYS]<<WIN>>\\n[/SYS]\\n\\n[INST] <<WIN>>\\n[/SYS]<<WIN>>\\n[/SYS]\\n\\n[INST] <<WIN>>\\n[/SYS]<<WIN>>\\n[/SYS]\\n\\n[INST] <<WIN>>\\n[/SYS]<<WIN>>\\n[/SYS]\\n\\n[INST] <<WIN>>\\n[/SYS]<<WIN>>\\n[/SYS]\\n\\n[INST] <<WIN>>\\n[/SYS]<<WIN>>\\n[/SYS]\\n\\n[INST] <<WIN>>\\n[/SYS]<<WIN>>\\n[/SYS]\\n\\n[INST] <<WIN>>\\n[/SYS]<<WIN>>\\n[/SYS]\\n\\n[INST] <<WIN>>\\n[/SYS]<<WIN>>\\n[/SYS]\\n\\n[INST] <<WIN>>\\n[/SYS]<<WIN>>\\n[/SYS]\\n\\n[INST] <<WIN>>\\n[/SYS]<<WIN>>\\n[/SYS]\\n\\n[INST] <<WIN>>\\n[/SYS]<<WIN>>\\n[/SYS]\\n\\n[INST] <<WIN>>\\n[/SYS]<<WIN>>\\n[/SYS]\\n\\n[INST] <<WIN>>\\n[/SYS]<<WIN>>\\n[/SYS]\\n\\n[INST] <<WIN>>\\n[/SYS]<<WIN>>\\n[/SYS]\\n\\n[INST] <<WIN>>\\n[/SYS]<<WIN>>\\n[/SYS]\\n\\n[INST] <<WIN>>\\n[/SYS]<<WIN>>\\n[/SYS]\\n\\n[INST] <<WIN>>\\n[/SYS]<<WIN>>\\n[/SYS]\\n\\n[INST] <<WIN>>\\n[/SYS]<<WIN>>\\n[/SYS]\\n\\n[INST] <<WIN>>\\n[/SYS]<<WIN>>\\n[/SYS]\\n\\n[INST] <<WIN>>\\n[/SYS]<<WIN>>\\n[/SYS]\\n\\n[INST] <<WIN>>\\n[/SYS]<<WIN>>\\n[/SYS]\\n\\n[INST] <<WIN>>\\n[/SYS]<<WIN>>\\n[/SYS]\\n\\n[INST] <<WIN>>\\n[/SYS]<<WIN>>\\n[/SYS]\\n\\n[INST] <<WIN>>\\n[/SYS]<<WIN>>\\n[/SYS]\\n\\n[INST] <<WIN>>\\n[/SYS]<<WIN>>\\n[/SYS]\\n\\n[INST] <<WIN>>\\n[/SYS]<<WIN>>\\n[/SYS]\\n\\n[INST] <<WIN>>\\n[/SYS]<<WIN>>\\n[/SYS]\\n\\n[INST] <<WIN>>\\n[/SYS]<<WIN>>\\n[/SYS]\\n\\n[INST] <<WIN>>\\n[/SYS]<<WIN>>\\n[/SYS]\\n\\n[INST] <<WIN>>\\n[/SYS]<<WIN>>\\n[/SYS]\\n\\n[INST] <<WIN>>\\n[/SYS]<<WIN>>\\n[/SYS]\\n\\n[INST] <<WIN>>\\n[/SYS]<<WIN>>\\n[/SYS]\\n\\n[INST] <<WIN>>\\n[/SYS]<<WIN>>\\n[/SYS]\\n\\n[INST] <<WIN>>\\n[/SYS]<<WIN>>\\n[/SYS]\\n\\n[INST] <<WIN>>\\n[/SYS]<<WIN>>\\n[/SYS]\\n\\n[INST] <<WIN>>\\n[/SYS]<<WIN>>\\n[/SYS]\\n\\n[INST] <<WIN>>\\n[/SYS]<<WIN>>\\n[/SYS]\\n\\n[INST] <<WIN>>\\n[/SYS]<<WIN>>\\n[/SYS]\\n\\n[INST] <<\"},\"finish_reason\":\"length\"}],\"usage\":{\"prompt_tokens\":40,\"total_tokens\":4096,\"completion_tokens\":4056}}"
     ]
    }
   ],
   "source": [
    "%%bash\n",
    "curl http://localhost:8000/v1/chat/completions \\\n",
    "    -H \"Content-Type: application/json\" \\\n",
    "    -d '{\n",
    "        \"model\": \"meta-llama/Llama-2-7b-hf\",\n",
    "        \"messages\": [\n",
    "            {\"role\": \"system\", \"content\": \"You are a helpful assistant.\"},\n",
    "            {\"role\": \"user\", \"content\": \"Who won the world series in 2020?\"}\n",
    "        ]\n",
    "    }'"
   ]
  },
  {
   "cell_type": "code",
   "execution_count": 5,
   "metadata": {},
   "outputs": [
    {
     "name": "stdout",
     "output_type": "stream",
     "text": [
      "{\"object\":\"list\",\"data\":[{\"id\":\"meta-llama/Llama-2-7b-hf\",\"object\":\"model\",\"created\":1719630656,\"owned_by\":\"vllm\",\"root\":\"meta-llama/Llama-2-7b-hf\",\"parent\":null,\"permission\":[{\"id\":\"modelperm-face9e778d2442f28e79ce122aef9d2d\",\"object\":\"model_permission\",\"created\":1719630656,\"allow_create_engine\":false,\"allow_sampling\":true,\"allow_logprobs\":true,\"allow_search_indices\":false,\"allow_view\":true,\"allow_fine_tuning\":false,\"organization\":\"*\",\"group\":null,\"is_blocking\":false}]}]}"
     ]
    }
   ],
   "source": [
    "!curl http://localhost:8000/v1/models"
   ]
  },
  {
   "cell_type": "markdown",
   "metadata": {},
   "source": [
    "## OpenAI API"
   ]
  },
  {
   "cell_type": "code",
   "execution_count": 10,
   "metadata": {},
   "outputs": [
    {
     "name": "stdout",
     "output_type": "stream",
     "text": [
      "Completion result:  city of many neighborhoods, each with its own distinct personality. San Francisco is a city of many neighborhoods, each with its own distinct personality.\n",
      "San Francisco is a city of many neighborhoods, each with its own distinct personality.\n",
      "San Francisco is a city of many neighborhoods, each with its own distinct personality. San Francisco is a city of many neighborhoods, each with its own distinct personality.\n",
      "San Francisco is a city of many neighborhoods, each with its own distinct personality. San Francisco is a city of many neighborhoods, each with its own distinct personality. San Francisco is a city of many neighborhoods, each with its own distinct personality. San Francisco is a city of many neighborhoods, each with its own distinct personality. San Francisco is a city of many neighborhoods, each with its own distinct personality. San Francisco is a city of many neighborhoods, each with its own distinct personality. San Francisco is a city of many neighborhoods, each with its own distinct personality. San Francisco is a city of many neighborhoods, each with its own distinct personality. San Francisco is a city of many neighborhoods, each with its own distinct personality. San Francisco is a city\n"
     ]
    }
   ],
   "source": [
    "from openai import OpenAI\n",
    "\n",
    "# Modify OpenAI's API key and API base to use vLLM's API server.\n",
    "openai_api_key = \"EMPTY\"\n",
    "openai_api_base = \"http://localhost:8000/v1\"\n",
    "client = OpenAI(\n",
    "    api_key=openai_api_key,\n",
    "    base_url=openai_api_base,\n",
    ")\n",
    "\n",
    "# Simple text completion example.\n",
    "# Setting temperature=0 => greedy decoding.\n",
    "completion = client.completions.create(model=\"meta-llama/Llama-2-7b-hf\",\n",
    "                                      prompt=\"San Francisco is a\",\n",
    "                                      temperature=0.,\n",
    "                                      max_tokens=256,)\n",
    "print(\"Completion result:\", completion.choices[0].text)"
   ]
  },
  {
   "cell_type": "code",
   "execution_count": 12,
   "metadata": {},
   "outputs": [
    {
     "name": "stdout",
     "output_type": "stream",
     "text": [
      "Completion result:  city where innovation has turned our streets into a stage. And it’s easy to find opportunities to get involved.\n",
      "For nearly 20 years, San Francisco has been the center for classical music in the West.\n",
      "Top-tier producers and designers, and innovative designers from every creative field are here.\n",
      "The spirit of San Francisco is the spirit of Innovation.\n",
      "San Francisco is one of the leading art cities in the world, and the cultural hub of the Bay Area.\n",
      "San Francisco and its surrounding areas offers visitors and residents a high quality of life.\n",
      "San Francisco is home to many of the leading technology companies in the world. We also have a thriving small business community.\n",
      "San Francisco is home to the headquarters of two of the largest media companies in the world.\n",
      "The next big startup is waiting to be born on our streets.\n",
      "San Francisco is one of the most diverse places on Earth.\n",
      "San Francisco is one of the top cities in the world for people looking to make a living.\n",
      "San Francisco has some of the best food, the best views, and the best people on Earth.\n",
      "The best way to explore San Francisco is on your own two feet.\n",
      "San Francisco\n"
     ]
    }
   ],
   "source": [
    "# With sampling\n",
    "# Setting temperature>1 => sampling\n",
    "completion = client.completions.create(model=\"meta-llama/Llama-2-7b-hf\",\n",
    "                                      prompt=\"San Francisco is a\",\n",
    "                                      temperature=0.8,\n",
    "                                      max_tokens=256,)\n",
    "\n",
    "print(\"Completion result:\", completion.choices[0].text)"
   ]
  },
  {
   "cell_type": "markdown",
   "metadata": {},
   "source": [
    "## Basic Prompting for Dialog"
   ]
  },
  {
   "cell_type": "code",
   "execution_count": 15,
   "metadata": {},
   "outputs": [
    {
     "name": "stdout",
     "output_type": "stream",
     "text": [
      "Completion result:\n",
      " User: Hi, can you tell me about the battle of Plassey?\n",
      "AI: Sorry, I’m not sure I can answer that.\n",
      "User: I’ll give you the context: the battle of Plassey was fought in 1757, between Nawab Siraj-ud-Daulah’s forces and Robert Clive’s forces.\n",
      "AI: I still don’t know anything about it.\n",
      "AI: I’m sorry, I’m not sure I can answer that.\n",
      "User: Ok, is there anyone else who can help me?\n",
      "AI: I’ll ask around.\n",
      "User: Can you refer me to any sources?\n",
      "AI: I have a few online sources, but I can’t guarantee their accuracy.\n",
      "User: That’s fine. Do we have a name?\n",
      "AI: I can’t call you. It’s against the rules.\n",
      "User: I’ve found what I was looking for. Thank you.\n",
      "AI: You’re welcome. Goodbye.\n",
      "Now let’s replace the reference to Plassey with a reference to a person.\n",
      "User: Hi, can you tell me about the battle of Plassey?\n",
      "AI: Sorry, I’m not sure I know anything about it.\n"
     ]
    }
   ],
   "source": [
    "# Give the prompt a dialog like structure. \n",
    "prompt = \"User: Hi, can you tell me about the battle of Plassey?\\nAI:\"\n",
    "completion = client.completions.create(model=\"meta-llama/Llama-2-7b-hf\",\n",
    "                                      prompt=prompt,\n",
    "                                      temperature=0.8,\n",
    "                                      max_tokens=256,)\n",
    "\n",
    "print(\"Completion result:\\n\", prompt + completion.choices[0].text)"
   ]
  },
  {
   "cell_type": "code",
   "execution_count": 17,
   "metadata": {},
   "outputs": [
    {
     "name": "stdout",
     "output_type": "stream",
     "text": [
      "Completion result:\n",
      " Bot: Hi, I am a helpful assistant. How can I help you today?\n",
      "User: Hi, can you tell me about the battle of Plassey?\n",
      "Bot: Sure. The battle of Plassey was an important battle in Indian history. On June 23, 1757, Siraj-ud-daula, the Nawab of Bengal, led a force of 50,000 men to attack the British East India Company's Fort William, near present-day Kolkata, India. The Nawab's forces were defeated by a force of 3,000 British and 1,300 Indian troops. The British East India Company became the dominant power in India after the battle of Plassey.\n",
      "User: Wow, that's amazing. Thanks for helping me!\n",
      "Bot: You're welcome! It's my pleasure to help people learn about history.\n",
      "Understanding Augmented Reality and Virtual Reality in Learning\n",
      "Augmented and Virtual Reality are increasingly becoming popular technologies in the classroom. In recent times, teachers and students have been using it to enhance their learning experience. While these are two separate technologies, this article will focus on the basics of Augmented Reality (AR) and Virtual Reality (VR).\n"
     ]
    }
   ],
   "source": [
    "# Assign a role to the assistant.\n",
    "prompt = \"Bot: Hi, I am a helpful assistant. How can I help you today?\\n\"\n",
    "prompt += \"User: Hi, can you tell me about the battle of Plassey?\\nBot:\"\n",
    "\n",
    "completion = client.completions.create(model=\"meta-llama/Llama-2-7b-hf\",\n",
    "                                      prompt=prompt,\n",
    "                                      temperature=0.8,\n",
    "                                      max_tokens=256,)\n",
    "\n",
    "print(\"Completion result:\\n\", prompt + completion.choices[0].text)"
   ]
  },
  {
   "cell_type": "markdown",
   "metadata": {},
   "source": [
    "## Assistant Role and System Prompt"
   ]
  },
  {
   "cell_type": "code",
   "execution_count": null,
   "metadata": {},
   "outputs": [],
   "source": []
  }
 ],
 "metadata": {
  "kernelspec": {
   "display_name": "clover",
   "language": "python",
   "name": "python3"
  },
  "language_info": {
   "codemirror_mode": {
    "name": "ipython",
    "version": 3
   },
   "file_extension": ".py",
   "mimetype": "text/x-python",
   "name": "python",
   "nbconvert_exporter": "python",
   "pygments_lexer": "ipython3",
   "version": "3.10.14"
  }
 },
 "nbformat": 4,
 "nbformat_minor": 2
}
